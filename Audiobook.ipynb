{
 "cells": [
  {
   "cell_type": "code",
   "execution_count": null,
   "id": "82db7bbb",
   "metadata": {},
   "outputs": [
    {
     "name": "stdout",
     "output_type": "stream",
     "text": [
      "Enter the absolute path of the PDF: /Users/maliniradhakrishnan/Desktop/Full Time/Tech/Malini_Radhakrishnan.pdf\n",
      "This pdf has 1 pages\n",
      "Enter the lower page number index you'd like: 1\n",
      "Enter the upper page number index you'd like: 1\n"
     ]
    }
   ],
   "source": [
    "import pyttsx3\n",
    "import PyPDF2\n",
    "\n",
    "def initializePDFReader(pdfPath):\n",
    "    pdfBook = open(pdfPath, 'rb') #reading the pdf as a binary book\n",
    "    global pdfReader, audioOutput\n",
    "    pdfReader = PyPDF2.PdfReader(pdfBook)\n",
    "    audioOutput = pyttsx3.init()\n",
    "    \n",
    "\n",
    "def readFunction(pageNumber):\n",
    "    page = pdfReader.pages[pageNumber]  #page numbers are indexed from 0 to n-1\n",
    "    text = page.extract_text()\n",
    "    audioOutput.say(text)\n",
    "    audioOutput.runAndWait()\n",
    "\n",
    "def readPDF(lowerPageNo, upperPageNumber):\n",
    "    if(lowerPageNo == upperPageNumber):\n",
    "        readFunction(lowerPageNo - 1)    #only one page is read\n",
    "    else:\n",
    "        for page in range(lowerPageNo - 1, upperPageNumber):\n",
    "            readFunction(page)\n",
    "\n",
    "\n",
    "def displayFunction():\n",
    "    try:\n",
    "        pdfUrl = input(\"Enter the absolute path of the PDF: \")\n",
    "        initializePDFReader(str(pdfUrl))\n",
    "    except FileNotFoundError:\n",
    "        print(\"File not Found! Please enter the correct path!\")\n",
    "    else:\n",
    "        numberOfPages = len(pdfReader.pages)\n",
    "\n",
    "        print('This pdf has {} pages'.format(str(numberOfPages)))\n",
    "\n",
    "        lowerPage = input(\"Enter the lower page number index you'd like: \")\n",
    "\n",
    "        if (int(lowerPage) > 0 and int(lowerPage) <= int(numberOfPages)):\n",
    "              upperPage = input(\"Enter the upper page number index you'd like: \")\n",
    "              if (int(upperPage) >= int(lowerPage) and int(upperPage) <= int(numberOfPages)):\n",
    "                  readPDF(int(lowerPage), int(upperPage))\n",
    "              else:\n",
    "                  print(\"ERROR! Please enter a valid page number!\")\n",
    "        else:\n",
    "              print(\"ERROR! Please enter a valid page number!\")\n",
    "          \n",
    "#main\n",
    "displayFunction()\n",
    "    "
   ]
  },
  {
   "cell_type": "code",
   "execution_count": null,
   "id": "71b7f4d5",
   "metadata": {},
   "outputs": [],
   "source": []
  }
 ],
 "metadata": {
  "kernelspec": {
   "display_name": "Python 3 (ipykernel)",
   "language": "python",
   "name": "python3"
  },
  "language_info": {
   "codemirror_mode": {
    "name": "ipython",
    "version": 3
   },
   "file_extension": ".py",
   "mimetype": "text/x-python",
   "name": "python",
   "nbconvert_exporter": "python",
   "pygments_lexer": "ipython3",
   "version": "3.9.6"
  }
 },
 "nbformat": 4,
 "nbformat_minor": 5
}
